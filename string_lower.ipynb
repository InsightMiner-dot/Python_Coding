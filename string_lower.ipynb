{
  "nbformat": 4,
  "nbformat_minor": 0,
  "metadata": {
    "colab": {
      "name": "string_lower.ipynb",
      "provenance": [],
      "authorship_tag": "ABX9TyOVLMO2BQw5c8V8Q5v5IMKk",
      "include_colab_link": true
    },
    "kernelspec": {
      "name": "python3",
      "display_name": "Python 3"
    },
    "language_info": {
      "name": "python"
    }
  },
  "cells": [
    {
      "cell_type": "markdown",
      "metadata": {
        "id": "view-in-github",
        "colab_type": "text"
      },
      "source": [
        "<a href=\"https://colab.research.google.com/github/ankan92/Python_Coding/blob/main/string_lower.ipynb\" target=\"_parent\"><img src=\"https://colab.research.google.com/assets/colab-badge.svg\" alt=\"Open In Colab\"/></a>"
      ]
    },
    {
      "cell_type": "markdown",
      "source": [
        "## Python String lower() Method\n",
        "\n",
        "Python String `lower()` method converts all uppercase characters in a string into lowercase characters and returns it."
      ],
      "metadata": {
        "id": "5ZHtfxwrv7cS"
      }
    },
    {
      "cell_type": "markdown",
      "source": [
        "## Syntax of .lower() function\n",
        "\n",
        "`Syntax:` string.lower()\n",
        "\n",
        "`Parameters:` The lower() method doesn’t take any parameters. \n",
        "\n",
        "`Returns:` Returns a lowercase string of the given string"
      ],
      "metadata": {
        "id": "rLYnDPeIxNYF"
      }
    },
    {
      "cell_type": "markdown",
      "source": [
        "### Example 1: lower() function to convert characters "
      ],
      "metadata": {
        "id": "IE8S5rCkxbDy"
      }
    },
    {
      "cell_type": "code",
      "execution_count": 2,
      "metadata": {
        "colab": {
          "base_uri": "https://localhost:8080/"
        },
        "id": "q7wjtrqmv6dS",
        "outputId": "7da493e7-a72a-4021-9008-6dff7d31a994"
      },
      "outputs": [
        {
          "output_type": "stream",
          "name": "stdout",
          "text": [
            "Original String:\n",
            "GeEKS FOR geeKS\n",
            "\n",
            "coverted string:\n",
            "geeks for geeks\n"
          ]
        }
      ],
      "source": [
        "text = \"GeEKS FOR geeKS\"\n",
        "\n",
        "print(\"Original String:\")\n",
        "print(text)\n",
        "\n",
        "print(\"\\ncoverted string:\")\n",
        "print(text.lower())"
      ]
    },
    {
      "cell_type": "markdown",
      "source": [
        "### Example 2: Comparison of strings using lower() method.\n",
        "\n",
        "One of the common applications of the lower() method is to check if the two strings are the same or not."
      ],
      "metadata": {
        "id": "-X886BOfyBph"
      }
    },
    {
      "cell_type": "code",
      "source": [
        "text1 = \"Geeks for Geeks\"\n",
        "text2 = \"gEeKS for GeeKs\"\n",
        "\n",
        "# Comparison of strings using\n",
        "# lower() method\n",
        "if (text1.lower() == text2.lower()):\n",
        "  print(\"String are same\")\n",
        "else:\n",
        "  print(\"String are not same\")"
      ],
      "metadata": {
        "colab": {
          "base_uri": "https://localhost:8080/"
        },
        "id": "c1ft28d8xn28",
        "outputId": "11ec3611-6e55-48ec-d686-33dca3e7576a"
      },
      "execution_count": 4,
      "outputs": [
        {
          "output_type": "stream",
          "name": "stdout",
          "text": [
            "String are same\n"
          ]
        }
      ]
    },
    {
      "cell_type": "code",
      "source": [
        "text1 = \"Geeks for Geeks\"\n",
        "text2 = \"gEeKS for GeeKs\"\n",
        "\n",
        "# Comparison of strings using\n",
        "# lower() method\n",
        "if (text1.lower() == text2.lower()):\n",
        "  print(\"String are same\")\n",
        "else:\n",
        "  print(\"String are not same\")"
      ],
      "metadata": {
        "colab": {
          "base_uri": "https://localhost:8080/"
        },
        "id": "JNHUE2-Dy-vm",
        "outputId": "6485ca78-a981-4cf7-9a1f-0f879fe6dbab"
      },
      "execution_count": 8,
      "outputs": [
        {
          "output_type": "stream",
          "name": "stdout",
          "text": [
            "String are same\n"
          ]
        }
      ]
    },
    {
      "cell_type": "markdown",
      "source": [
        "### Example 3: swapcase() function to convert string to lower_case\n",
        "\n",
        "Convert uppercase to lowercase in python using swapcase function."
      ],
      "metadata": {
        "id": "t5feg32Vzt0J"
      }
    },
    {
      "cell_type": "code",
      "source": [
        "s = \"GEEKSFORGEEKS\"\n",
        "print(s.swapcase())"
      ],
      "metadata": {
        "colab": {
          "base_uri": "https://localhost:8080/"
        },
        "id": "wNNmvd8lzd4M",
        "outputId": "4219b907-3a62-45f2-fe21-a8de19907d9e"
      },
      "execution_count": 10,
      "outputs": [
        {
          "output_type": "stream",
          "name": "stdout",
          "text": [
            "geeksforgeeks\n"
          ]
        }
      ]
    },
    {
      "cell_type": "code",
      "source": [
        "s = \"GEEKS FOR GEEKS\"\n",
        "print(s.swapcase())\n"
      ],
      "metadata": {
        "colab": {
          "base_uri": "https://localhost:8080/"
        },
        "id": "rEdowZNM44Hc",
        "outputId": "0d5d09e8-8a41-494c-9ca0-d94fc7709847"
      },
      "execution_count": 15,
      "outputs": [
        {
          "output_type": "stream",
          "name": "stdout",
          "text": [
            "geeks for geeks\n"
          ]
        }
      ]
    },
    {
      "cell_type": "markdown",
      "source": [
        ""
      ],
      "metadata": {
        "id": "1D2lOnI14_eL"
      }
    },
    {
      "cell_type": "code",
      "source": [
        "s1 = \"ANKAN\"\n",
        "print(s1.lower())"
      ],
      "metadata": {
        "colab": {
          "base_uri": "https://localhost:8080/"
        },
        "id": "u444WGVn0ACB",
        "outputId": "27856c56-8ba8-4639-d528-b7bd37b72890"
      },
      "execution_count": 12,
      "outputs": [
        {
          "output_type": "stream",
          "name": "stdout",
          "text": [
            "ankan\n"
          ]
        }
      ]
    },
    {
      "cell_type": "markdown",
      "source": [
        "### Example 4: casefold() function to convert string to lower_case"
      ],
      "metadata": {
        "id": "PFmvmW2V4sGc"
      }
    },
    {
      "cell_type": "code",
      "source": [
        "s4 = 'GEEKS FOR GEEKS'\n",
        "print(s4.lower())\n",
        "print(s4.casefold())\n",
        "print(s4.swapcase())"
      ],
      "metadata": {
        "colab": {
          "base_uri": "https://localhost:8080/"
        },
        "id": "WI_jriOi0JcF",
        "outputId": "289cf66c-0af1-4ce4-e7c4-c9279e81db3c"
      },
      "execution_count": 16,
      "outputs": [
        {
          "output_type": "stream",
          "name": "stdout",
          "text": [
            "geeks for geeks\n",
            "geeks for geeks\n",
            "geeks for geeks\n"
          ]
        }
      ]
    }
  ]
}