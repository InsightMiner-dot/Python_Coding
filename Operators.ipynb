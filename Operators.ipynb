{
  "nbformat": 4,
  "nbformat_minor": 0,
  "metadata": {
    "colab": {
      "name": "Operators.ipynb",
      "provenance": [],
      "toc_visible": true,
      "authorship_tag": "ABX9TyOPYbBz6jVFJKDX9LTQgrc3",
      "include_colab_link": true
    },
    "kernelspec": {
      "name": "python3",
      "display_name": "Python 3"
    },
    "language_info": {
      "name": "python"
    }
  },
  "cells": [
    {
      "cell_type": "markdown",
      "metadata": {
        "id": "view-in-github",
        "colab_type": "text"
      },
      "source": [
        "<a href=\"https://colab.research.google.com/github/ankan92/Python_Coding/blob/main/Operators.ipynb\" target=\"_parent\"><img src=\"https://colab.research.google.com/assets/colab-badge.svg\" alt=\"Open In Colab\"/></a>"
      ]
    },
    {
      "cell_type": "markdown",
      "source": [
        "# Operators\n",
        "\n",
        "Operators are used to perform \n",
        "\n",
        "1. Arithmetic Operators\n",
        "2. Comparison Operators\n",
        "3. Logical Operators\n",
        "4. Bitwise Operators\n",
        "5. Assignment Operators\n",
        "6. Identity Operators\n",
        "7. Membership Operators"
      ],
      "metadata": {
        "id": "WV56Ksd1jJp7"
      }
    },
    {
      "cell_type": "markdown",
      "source": [
        "## Arithmetic Operators"
      ],
      "metadata": {
        "id": "vHSEbl5SuBBr"
      }
    },
    {
      "cell_type": "code",
      "source": [
        "x = 5\n",
        "y = 2"
      ],
      "metadata": {
        "id": "n83W9NMsuE3h"
      },
      "execution_count": 3,
      "outputs": []
    },
    {
      "cell_type": "markdown",
      "source": [
        "### Addition"
      ],
      "metadata": {
        "id": "lhfJP7Eyzx52"
      }
    },
    {
      "cell_type": "code",
      "source": [
        "# Addition \n",
        "print(x+y)"
      ],
      "metadata": {
        "colab": {
          "base_uri": "https://localhost:8080/"
        },
        "id": "azmQhPF_uKla",
        "outputId": "99d4bf61-42a3-4ee9-9b9b-61181c972095"
      },
      "execution_count": 5,
      "outputs": [
        {
          "output_type": "stream",
          "name": "stdout",
          "text": [
            "7\n"
          ]
        }
      ]
    },
    {
      "cell_type": "markdown",
      "source": [
        "### Subtraction"
      ],
      "metadata": {
        "id": "f2fapB7hz11z"
      }
    },
    {
      "cell_type": "code",
      "source": [
        "# Subtraction\n",
        "print(x-y)"
      ],
      "metadata": {
        "colab": {
          "base_uri": "https://localhost:8080/"
        },
        "id": "IaUkA_rUuRYM",
        "outputId": "236783ea-c971-4e9d-a39e-728d67c2dce3"
      },
      "execution_count": 6,
      "outputs": [
        {
          "output_type": "stream",
          "name": "stdout",
          "text": [
            "3\n"
          ]
        }
      ]
    },
    {
      "cell_type": "markdown",
      "source": [
        "### Multiplication"
      ],
      "metadata": {
        "id": "nnMMc27Ez5ll"
      }
    },
    {
      "cell_type": "code",
      "source": [
        "# Multiplication\n",
        "print(x*y)"
      ],
      "metadata": {
        "colab": {
          "base_uri": "https://localhost:8080/"
        },
        "id": "o-zPnc1DuW4y",
        "outputId": "f234ea74-b120-489c-d3e0-4d8a2d7522d9"
      },
      "execution_count": 7,
      "outputs": [
        {
          "output_type": "stream",
          "name": "stdout",
          "text": [
            "10\n"
          ]
        }
      ]
    },
    {
      "cell_type": "markdown",
      "source": [
        "### True Division"
      ],
      "metadata": {
        "id": "z4pzRpybz-X8"
      }
    },
    {
      "cell_type": "code",
      "source": [
        "# True Division\n",
        "print(x/y)"
      ],
      "metadata": {
        "colab": {
          "base_uri": "https://localhost:8080/"
        },
        "id": "SBKKGJ-kucXm",
        "outputId": "69866e7f-af16-4b34-d6a3-9c1041c343e8"
      },
      "execution_count": 8,
      "outputs": [
        {
          "output_type": "stream",
          "name": "stdout",
          "text": [
            "2.5\n"
          ]
        }
      ]
    },
    {
      "cell_type": "markdown",
      "source": [
        "### Integer Division"
      ],
      "metadata": {
        "id": "nelXIUVa0A1l"
      }
    },
    {
      "cell_type": "code",
      "source": [
        "# Integer Division\n",
        "print(x//y)"
      ],
      "metadata": {
        "colab": {
          "base_uri": "https://localhost:8080/"
        },
        "id": "Xb4099cDu5ty",
        "outputId": "475fb073-fe88-4d32-f7cd-93b8f70c88b1"
      },
      "execution_count": 12,
      "outputs": [
        {
          "output_type": "stream",
          "name": "stdout",
          "text": [
            "2\n"
          ]
        }
      ]
    },
    {
      "cell_type": "markdown",
      "source": [
        "### Modulous"
      ],
      "metadata": {
        "id": "1PVmTIye0C8t"
      }
    },
    {
      "cell_type": "code",
      "source": [
        "# Modulous\n",
        "print(x%y)"
      ],
      "metadata": {
        "colab": {
          "base_uri": "https://localhost:8080/"
        },
        "id": "BzUzs78Iuibq",
        "outputId": "cf25146c-fb33-4e35-9a1a-b5900e066b7c"
      },
      "execution_count": 9,
      "outputs": [
        {
          "output_type": "stream",
          "name": "stdout",
          "text": [
            "1\n"
          ]
        }
      ]
    },
    {
      "cell_type": "markdown",
      "source": [
        "### Power "
      ],
      "metadata": {
        "id": "T2lbgRgj0FP5"
      }
    },
    {
      "cell_type": "code",
      "source": [
        "# Power \n",
        "print(x**y)"
      ],
      "metadata": {
        "colab": {
          "base_uri": "https://localhost:8080/"
        },
        "id": "Up5zKg0kusi-",
        "outputId": "485c0f48-78ca-4641-85c8-9ec688e4478a"
      },
      "execution_count": 11,
      "outputs": [
        {
          "output_type": "stream",
          "name": "stdout",
          "text": [
            "25\n"
          ]
        }
      ]
    },
    {
      "cell_type": "markdown",
      "source": [
        "## Comparison Operators"
      ],
      "metadata": {
        "id": "MZ7LiFSgvE4g"
      }
    },
    {
      "cell_type": "markdown",
      "source": [
        "### Greater than"
      ],
      "metadata": {
        "id": "OMxNOtj20H76"
      }
    },
    {
      "cell_type": "code",
      "source": [
        "# Greater than\n",
        "print (x>y)"
      ],
      "metadata": {
        "colab": {
          "base_uri": "https://localhost:8080/"
        },
        "id": "6Tw_hzbDu3zr",
        "outputId": "7fd36e54-9f5e-4fa4-c80d-9367984bbc5d"
      },
      "execution_count": 13,
      "outputs": [
        {
          "output_type": "stream",
          "name": "stdout",
          "text": [
            "True\n"
          ]
        }
      ]
    },
    {
      "cell_type": "markdown",
      "source": [
        "### Less than"
      ],
      "metadata": {
        "id": "oImpKy3k0K60"
      }
    },
    {
      "cell_type": "code",
      "source": [
        "# Less than\n",
        "print(x<y)"
      ],
      "metadata": {
        "colab": {
          "base_uri": "https://localhost:8080/"
        },
        "id": "GMwSjykTvPZq",
        "outputId": "87292b3c-edd3-4c0d-c0cb-faf3a0e47991"
      },
      "execution_count": 14,
      "outputs": [
        {
          "output_type": "stream",
          "name": "stdout",
          "text": [
            "False\n"
          ]
        }
      ]
    },
    {
      "cell_type": "markdown",
      "source": [
        "### Equal to"
      ],
      "metadata": {
        "id": "zi1GlX6d0Ns3"
      }
    },
    {
      "cell_type": "code",
      "source": [
        "# Equal to\n",
        "print(x==y)"
      ],
      "metadata": {
        "colab": {
          "base_uri": "https://localhost:8080/"
        },
        "id": "oCovAfbvvX4Y",
        "outputId": "7a028e06-dfe3-4bdf-8005-a143a4b11b43"
      },
      "execution_count": 16,
      "outputs": [
        {
          "output_type": "stream",
          "name": "stdout",
          "text": [
            "False\n"
          ]
        }
      ]
    },
    {
      "cell_type": "markdown",
      "source": [
        "### Greater than equal to"
      ],
      "metadata": {
        "id": "hWnUlHDl0QA4"
      }
    },
    {
      "cell_type": "code",
      "source": [
        "# Greater than equal to\n",
        "print(x>=y)"
      ],
      "metadata": {
        "colab": {
          "base_uri": "https://localhost:8080/"
        },
        "id": "lhFcI3uXve0t",
        "outputId": "b2ae4bd7-42f1-453e-f804-33e4f4a6ed60"
      },
      "execution_count": 17,
      "outputs": [
        {
          "output_type": "stream",
          "name": "stdout",
          "text": [
            "True\n"
          ]
        }
      ]
    },
    {
      "cell_type": "markdown",
      "source": [
        "### Less than equal to"
      ],
      "metadata": {
        "id": "WD4LkDIv0TBS"
      }
    },
    {
      "cell_type": "code",
      "source": [
        "# Less than equal to\n",
        "print(x<=y)"
      ],
      "metadata": {
        "colab": {
          "base_uri": "https://localhost:8080/"
        },
        "id": "HVEKmbHLvlwL",
        "outputId": "0eccd863-a0a5-4bb9-aec7-d6f42d0d7f67"
      },
      "execution_count": 18,
      "outputs": [
        {
          "output_type": "stream",
          "name": "stdout",
          "text": [
            "False\n"
          ]
        }
      ]
    },
    {
      "cell_type": "markdown",
      "source": [
        "### Not equal to"
      ],
      "metadata": {
        "id": "--i_BkMG0Vb3"
      }
    },
    {
      "cell_type": "code",
      "source": [
        "# Not equal to\n",
        "print (x != y)"
      ],
      "metadata": {
        "colab": {
          "base_uri": "https://localhost:8080/"
        },
        "id": "wSvUiMG4vrgb",
        "outputId": "0e13b27e-ee2a-46e7-f442-a8ddf38e8c75"
      },
      "execution_count": 19,
      "outputs": [
        {
          "output_type": "stream",
          "name": "stdout",
          "text": [
            "True\n"
          ]
        }
      ]
    },
    {
      "cell_type": "markdown",
      "source": [
        "## Logical Operators"
      ],
      "metadata": {
        "id": "fKy6_VJKuP5x"
      }
    },
    {
      "cell_type": "markdown",
      "source": [
        "### And"
      ],
      "metadata": {
        "id": "zvXddhC-0X7h"
      }
    },
    {
      "cell_type": "code",
      "source": [
        "# And\n",
        "a = True\n",
        "b = False\n",
        "print (a and b)"
      ],
      "metadata": {
        "colab": {
          "base_uri": "https://localhost:8080/"
        },
        "id": "iDiuRte2uhtV",
        "outputId": "b1dd4007-32f7-442c-9e09-3aa9aa4e8917"
      },
      "execution_count": 23,
      "outputs": [
        {
          "output_type": "stream",
          "name": "stdout",
          "text": [
            "False\n"
          ]
        }
      ]
    },
    {
      "cell_type": "markdown",
      "source": [
        "### or"
      ],
      "metadata": {
        "id": "D3PVk05s0awo"
      }
    },
    {
      "cell_type": "code",
      "source": [
        "# or\n",
        "print (a or b)"
      ],
      "metadata": {
        "colab": {
          "base_uri": "https://localhost:8080/"
        },
        "id": "cQyDn-VlwI_a",
        "outputId": "3c3a81e6-8364-43e9-fe81-686f5a5a57f5"
      },
      "execution_count": 24,
      "outputs": [
        {
          "output_type": "stream",
          "name": "stdout",
          "text": [
            "True\n"
          ]
        }
      ]
    },
    {
      "cell_type": "markdown",
      "source": [
        "### not"
      ],
      "metadata": {
        "id": "mEnSKWO40cuI"
      }
    },
    {
      "cell_type": "code",
      "source": [
        "# not\n",
        "print(not x)"
      ],
      "metadata": {
        "colab": {
          "base_uri": "https://localhost:8080/"
        },
        "id": "XjOE-T_JwM4M",
        "outputId": "5f746c19-df7a-413e-c4f2-9147fbd7a646"
      },
      "execution_count": 25,
      "outputs": [
        {
          "output_type": "stream",
          "name": "stdout",
          "text": [
            "False\n"
          ]
        }
      ]
    },
    {
      "cell_type": "markdown",
      "source": [
        "## Bitwise Operator"
      ],
      "metadata": {
        "id": "FNhQ4YiUwb2z"
      }
    },
    {
      "cell_type": "markdown",
      "source": [
        "### &"
      ],
      "metadata": {
        "id": "z8sMKlx60exS"
      }
    },
    {
      "cell_type": "code",
      "source": [
        "x = 2 \n",
        "y = 3\n",
        "print (x & y)\n",
        "\n",
        "# 010 -- 2\n",
        "# 110 -- 3\n",
        "# 010 -- 2"
      ],
      "metadata": {
        "colab": {
          "base_uri": "https://localhost:8080/"
        },
        "id": "dXwj_JWGwbG0",
        "outputId": "32da25c5-1491-4d55-a68c-9562fdb18781"
      },
      "execution_count": 28,
      "outputs": [
        {
          "output_type": "stream",
          "name": "stdout",
          "text": [
            "2\n"
          ]
        }
      ]
    },
    {
      "cell_type": "markdown",
      "source": [
        "### |"
      ],
      "metadata": {
        "id": "KLJa4fJy0gqk"
      }
    },
    {
      "cell_type": "code",
      "source": [
        "print(x|y)"
      ],
      "metadata": {
        "colab": {
          "base_uri": "https://localhost:8080/"
        },
        "id": "pdVwwhhbwz9H",
        "outputId": "1ba81335-a04a-440f-a597-77526402025d"
      },
      "execution_count": 29,
      "outputs": [
        {
          "output_type": "stream",
          "name": "stdout",
          "text": [
            "3\n"
          ]
        }
      ]
    },
    {
      "cell_type": "markdown",
      "source": [
        "### >>"
      ],
      "metadata": {
        "id": "Ha3S4Hv70jL-"
      }
    },
    {
      "cell_type": "code",
      "source": [
        "print (x >> 2)"
      ],
      "metadata": {
        "colab": {
          "base_uri": "https://localhost:8080/"
        },
        "id": "TtLzuZaFw5KX",
        "outputId": "120d6ef6-7579-47e2-b69c-3fa7e8a625a1"
      },
      "execution_count": 30,
      "outputs": [
        {
          "output_type": "stream",
          "name": "stdout",
          "text": [
            "0\n"
          ]
        }
      ]
    },
    {
      "cell_type": "markdown",
      "source": [
        "### <<"
      ],
      "metadata": {
        "id": "ziMrvEew0k3m"
      }
    },
    {
      "cell_type": "code",
      "source": [
        "print(y << 2)"
      ],
      "metadata": {
        "colab": {
          "base_uri": "https://localhost:8080/"
        },
        "id": "5ILaEJUCw8yj",
        "outputId": "6d98bb82-59e2-4d0c-d62f-0d0add6b7456"
      },
      "execution_count": 31,
      "outputs": [
        {
          "output_type": "stream",
          "name": "stdout",
          "text": [
            "12\n"
          ]
        }
      ]
    },
    {
      "cell_type": "markdown",
      "source": [
        "### ~"
      ],
      "metadata": {
        "id": "POe_fPii0m0X"
      }
    },
    {
      "cell_type": "code",
      "source": [
        "print (~x)"
      ],
      "metadata": {
        "colab": {
          "base_uri": "https://localhost:8080/"
        },
        "id": "Dp2KuintxFrD",
        "outputId": "9a46c3a6-3f08-4f76-a7c7-f6ec806a117f"
      },
      "execution_count": 32,
      "outputs": [
        {
          "output_type": "stream",
          "name": "stdout",
          "text": [
            "-3\n"
          ]
        }
      ]
    },
    {
      "cell_type": "markdown",
      "source": [
        "## Assignment Operators"
      ],
      "metadata": {
        "id": "Y0gmLua2xacW"
      }
    },
    {
      "cell_type": "code",
      "source": [
        "c = 3\n",
        "print(c)"
      ],
      "metadata": {
        "colab": {
          "base_uri": "https://localhost:8080/"
        },
        "id": "AovMRlNuxeLh",
        "outputId": "aa4eea24-35d7-49d8-a109-272bff32f52e"
      },
      "execution_count": 38,
      "outputs": [
        {
          "output_type": "stream",
          "name": "stdout",
          "text": [
            "3\n"
          ]
        }
      ]
    },
    {
      "cell_type": "code",
      "source": [
        "c +=3\n",
        "print(c)"
      ],
      "metadata": {
        "colab": {
          "base_uri": "https://localhost:8080/"
        },
        "id": "D8l1Ll4OxlFM",
        "outputId": "90728880-cb69-4aa6-fbba-b92309a5109b"
      },
      "execution_count": 39,
      "outputs": [
        {
          "output_type": "stream",
          "name": "stdout",
          "text": [
            "6\n"
          ]
        }
      ]
    },
    {
      "cell_type": "code",
      "source": [
        "c -= 3\n",
        "print(c)"
      ],
      "metadata": {
        "colab": {
          "base_uri": "https://localhost:8080/"
        },
        "id": "bgdz89msxqis",
        "outputId": "12a9fd31-8e7d-4bf4-d899-13332a85b456"
      },
      "execution_count": 40,
      "outputs": [
        {
          "output_type": "stream",
          "name": "stdout",
          "text": [
            "3\n"
          ]
        }
      ]
    },
    {
      "cell_type": "markdown",
      "source": [
        "## Identity Operators\n",
        "Check that two varaibles are in same memory location or not "
      ],
      "metadata": {
        "id": "9Ynqt1Xjx9M3"
      }
    },
    {
      "cell_type": "markdown",
      "source": [
        "### is"
      ],
      "metadata": {
        "id": "JhxG8Xaq0qrn"
      }
    },
    {
      "cell_type": "code",
      "source": [
        "a = 3\n",
        "b = 3\n",
        "print(a is b)"
      ],
      "metadata": {
        "colab": {
          "base_uri": "https://localhost:8080/"
        },
        "id": "ODTmQ0akyMSf",
        "outputId": "05841de5-458d-4fb4-872a-fcaacc96af86"
      },
      "execution_count": 41,
      "outputs": [
        {
          "output_type": "stream",
          "name": "stdout",
          "text": [
            "True\n"
          ]
        }
      ]
    },
    {
      "cell_type": "code",
      "source": [
        "a = \"Hello\"\n",
        "b = \"Hello\"\n",
        "print( a is b)"
      ],
      "metadata": {
        "colab": {
          "base_uri": "https://localhost:8080/"
        },
        "id": "DU0YWo9Dyb2r",
        "outputId": "0df5b611-c3ae-489c-e26a-7c3e6c50fe0f"
      },
      "execution_count": 42,
      "outputs": [
        {
          "output_type": "stream",
          "name": "stdout",
          "text": [
            "False\n"
          ]
        }
      ]
    },
    {
      "cell_type": "code",
      "source": [
        "l1 = [1,2,3]\n",
        "l2 = [1,2,3]\n",
        "print(l1 is l2)"
      ],
      "metadata": {
        "colab": {
          "base_uri": "https://localhost:8080/"
        },
        "id": "r5Pi5FOxye8g",
        "outputId": "09108652-6efd-4425-f761-f7db12657de9"
      },
      "execution_count": 44,
      "outputs": [
        {
          "output_type": "stream",
          "name": "stdout",
          "text": [
            "False\n"
          ]
        }
      ]
    },
    {
      "cell_type": "code",
      "source": [
        "a = \"Hello-world\"\n",
        "b = \"Hello-world\"\n",
        "\n",
        "print(a is b)"
      ],
      "metadata": {
        "colab": {
          "base_uri": "https://localhost:8080/"
        },
        "id": "s3GdDHi4yv3k",
        "outputId": "67009079-d2a8-4b97-c925-841eaf82a83a"
      },
      "execution_count": 45,
      "outputs": [
        {
          "output_type": "stream",
          "name": "stdout",
          "text": [
            "False\n"
          ]
        }
      ]
    },
    {
      "cell_type": "markdown",
      "source": [
        "### is not"
      ],
      "metadata": {
        "id": "QYwBkUZG0tDw"
      }
    },
    {
      "cell_type": "code",
      "source": [
        "# is not\n",
        "print(a is not b)"
      ],
      "metadata": {
        "colab": {
          "base_uri": "https://localhost:8080/"
        },
        "id": "1vcvOJcRzp_E",
        "outputId": "cff502f6-6e89-49ff-a6fd-85862c47f554"
      },
      "execution_count": 50,
      "outputs": [
        {
          "output_type": "stream",
          "name": "stdout",
          "text": [
            "True\n"
          ]
        }
      ]
    },
    {
      "cell_type": "markdown",
      "source": [
        "## Membership Operators"
      ],
      "metadata": {
        "id": "wZIkfjqWy3Lk"
      }
    },
    {
      "cell_type": "markdown",
      "source": [
        "### in"
      ],
      "metadata": {
        "id": "xOuLCdtN0wAz"
      }
    },
    {
      "cell_type": "code",
      "source": [
        "city = \"Delhi\"\n",
        "\n",
        "print( \"D\" in city)"
      ],
      "metadata": {
        "colab": {
          "base_uri": "https://localhost:8080/"
        },
        "id": "0jAlVeBay6KC",
        "outputId": "9dd2dbcf-7f7b-4fa6-e4e5-883b89ea4db0"
      },
      "execution_count": 46,
      "outputs": [
        {
          "output_type": "stream",
          "name": "stdout",
          "text": [
            "True\n"
          ]
        }
      ]
    },
    {
      "cell_type": "code",
      "source": [
        "print( \"D\" not in city)"
      ],
      "metadata": {
        "colab": {
          "base_uri": "https://localhost:8080/"
        },
        "id": "DEAf6IPIzCyj",
        "outputId": "b9fa0518-0ecb-4445-cc05-83dc101d2f10"
      },
      "execution_count": 47,
      "outputs": [
        {
          "output_type": "stream",
          "name": "stdout",
          "text": [
            "False\n"
          ]
        }
      ]
    },
    {
      "cell_type": "code",
      "source": [
        "l3 = [1,2,3]\n",
        "print(2 in l3)"
      ],
      "metadata": {
        "colab": {
          "base_uri": "https://localhost:8080/"
        },
        "id": "8ngEzhQYzHpp",
        "outputId": "b7b26424-fb2d-4d96-d222-fbaa810d2bc4"
      },
      "execution_count": 48,
      "outputs": [
        {
          "output_type": "stream",
          "name": "stdout",
          "text": [
            "True\n"
          ]
        }
      ]
    },
    {
      "cell_type": "code",
      "source": [
        "print( 5 in l3)"
      ],
      "metadata": {
        "colab": {
          "base_uri": "https://localhost:8080/"
        },
        "id": "FRYYHrDnzOHy",
        "outputId": "f3f17c44-a99e-40d9-a859-c9e32451761f"
      },
      "execution_count": 49,
      "outputs": [
        {
          "output_type": "stream",
          "name": "stdout",
          "text": [
            "False\n"
          ]
        }
      ]
    }
  ]
}