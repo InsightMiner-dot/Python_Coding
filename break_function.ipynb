{
  "nbformat": 4,
  "nbformat_minor": 0,
  "metadata": {
    "colab": {
      "name": "break_function.ipynb",
      "provenance": []
    },
    "kernelspec": {
      "name": "python3",
      "display_name": "Python 3"
    },
    "language_info": {
      "name": "python"
    }
  },
  "cells": [
    {
      "cell_type": "markdown",
      "source": [
        "#Break():\n",
        "break in python is a loop control statement. It's used control the sequence of the loop. Suppose you want to terminate a loop and skip to the next code after the loop, break function will help you do that. You can use break in python in all the loop: while, for & nested loop."
      ],
      "metadata": {
        "id": "SfRYbNo_Be8K"
      }
    },
    {
      "cell_type": "markdown",
      "source": [
        "## Using break in while loop"
      ],
      "metadata": {
        "id": "szFtl2gz4Z84"
      }
    },
    {
      "cell_type": "code",
      "source": [
        "n = 0\n",
        "# Defining the while loop\n",
        "while n <= 15:\n",
        "  print(n)\n",
        "  n = n+1\n",
        "  if n == 5:\n",
        "    break\n",
        "\n",
        "print('End of while loop')\n",
        "\n",
        "\n"
      ],
      "metadata": {
        "colab": {
          "base_uri": "https://localhost:8080/"
        },
        "id": "H-XoDhAc4c7i",
        "outputId": "f84bafdb-775d-4a44-a384-b7e0135a7dfe"
      },
      "execution_count": 6,
      "outputs": [
        {
          "output_type": "stream",
          "name": "stdout",
          "text": [
            "0\n",
            "1\n",
            "2\n",
            "3\n",
            "4\n",
            "End of while loop\n"
          ]
        }
      ]
    },
    {
      "cell_type": "markdown",
      "source": [
        "## Using break in For loop"
      ],
      "metadata": {
        "id": "eyP7fTSI96G4"
      }
    },
    {
      "cell_type": "code",
      "source": [
        "str = 'python'\n",
        "for letter in str:\n",
        "  print(letter)\n",
        "  if letter == 'o':\n",
        "    break\n",
        "print(\"Out of the loop\")"
      ],
      "metadata": {
        "colab": {
          "base_uri": "https://localhost:8080/"
        },
        "id": "9BLUsFJp4i6K",
        "outputId": "1af27a2a-e797-4992-bd35-270404b2f2ce"
      },
      "execution_count": 8,
      "outputs": [
        {
          "output_type": "stream",
          "name": "stdout",
          "text": [
            "p\n",
            "y\n",
            "t\n",
            "h\n",
            "o\n",
            "Out of the loop\n"
          ]
        }
      ]
    },
    {
      "cell_type": "markdown",
      "source": [
        ""
      ],
      "metadata": {
        "id": "JJmkoJmP-R7_"
      }
    },
    {
      "cell_type": "code",
      "source": [
        ""
      ],
      "metadata": {
        "id": "byZE-kQV-KqY"
      },
      "execution_count": null,
      "outputs": []
    }
  ]
}