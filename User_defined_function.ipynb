{
  "nbformat": 4,
  "nbformat_minor": 0,
  "metadata": {
    "colab": {
      "name": "User_defined_function.ipynb",
      "provenance": [],
      "authorship_tag": "ABX9TyO0nyxN8GQoa6XyLMoed658",
      "include_colab_link": true
    },
    "kernelspec": {
      "name": "python3",
      "display_name": "Python 3"
    },
    "language_info": {
      "name": "python"
    }
  },
  "cells": [
    {
      "cell_type": "markdown",
      "metadata": {
        "id": "view-in-github",
        "colab_type": "text"
      },
      "source": [
        "<a href=\"https://colab.research.google.com/github/ankan92/Python_Coding/blob/main/User_defined_function.ipynb\" target=\"_parent\"><img src=\"https://colab.research.google.com/assets/colab-badge.svg\" alt=\"Open In Colab\"/></a>"
      ]
    },
    {
      "cell_type": "markdown",
      "source": [
        "## User Defined function :\n",
        "It is often usefulto define your own function to do something then have your python code well that function.\n",
        "\n",
        "This can be useful when want to perform the same computation is several different scenarios. \n",
        "If you put this computation inside a function then you wan't have to rewrite your code each time you want to make the computation."
      ],
      "metadata": {
        "id": "ln4qrF3iE6A1"
      }
    },
    {
      "cell_type": "markdown",
      "source": [
        "### Q) Define a function that take an input , square it, adds 7, then returns the answere."
      ],
      "metadata": {
        "id": "V-Y8KgxIGWwF"
      }
    },
    {
      "cell_type": "code",
      "execution_count": null,
      "metadata": {
        "colab": {
          "base_uri": "https://localhost:8080/"
        },
        "id": "IL2AnYlzDPZL",
        "outputId": "0a72d595-7589-465f-ea9b-02269ee07d3e"
      },
      "outputs": [
        {
          "output_type": "stream",
          "name": "stdout",
          "text": [
            "x^2 + 7 =  16\n"
          ]
        }
      ],
      "source": [
        "def x2p7 (x):\n",
        "  y = x*x\n",
        "  z = y+7\n",
        "  return z\n",
        "\n",
        "print ('x^2 + 7 = ', x2p7(3))\n"
      ]
    },
    {
      "cell_type": "code",
      "source": [
        ""
      ],
      "metadata": {
        "id": "_ygpMPvQGTOx"
      },
      "execution_count": null,
      "outputs": []
    }
  ]
}