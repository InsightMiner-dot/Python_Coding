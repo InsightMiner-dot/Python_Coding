{
  "nbformat": 4,
  "nbformat_minor": 0,
  "metadata": {
    "colab": {
      "name": "Capitalize_string.ipynb",
      "provenance": [],
      "collapsed_sections": [],
      "authorship_tag": "ABX9TyMtlPvfDHhxflQZ+7Yumi+p",
      "include_colab_link": true
    },
    "kernelspec": {
      "name": "python3",
      "display_name": "Python 3"
    },
    "language_info": {
      "name": "python"
    }
  },
  "cells": [
    {
      "cell_type": "markdown",
      "metadata": {
        "id": "view-in-github",
        "colab_type": "text"
      },
      "source": [
        "<a href=\"https://colab.research.google.com/github/ankan92/Python_Coding/blob/main/Capitalize_string.ipynb\" target=\"_parent\"><img src=\"https://colab.research.google.com/assets/colab-badge.svg\" alt=\"Open In Colab\"/></a>"
      ]
    },
    {
      "cell_type": "markdown",
      "source": [
        "# String capitalize() in python"
      ],
      "metadata": {
        "id": "Lqlh5wXQY2De"
      }
    },
    {
      "cell_type": "markdown",
      "source": [
        "`Python String capitalize()` method returns a copy of the original string & converts the first letter or character of the string to a capital (UPPERCSAE) letter, while making all other character in the string lowercase letters."
      ],
      "metadata": {
        "id": "_G86xPXBY9SQ"
      }
    },
    {
      "cell_type": "markdown",
      "source": [
        "## Python string capitalize() method sytex:\n",
        "\n",
        "`syntex :` string_name.capitalize()\n",
        "\n",
        "`Parameter:` The capitalize() function does not take any parameter.\n",
        "\n",
        "`Return:` The capitalize() function returns a string with the first character in the capital."
      ],
      "metadata": {
        "id": "r1I_btbiZqoV"
      }
    },
    {
      "cell_type": "markdown",
      "source": [
        "### Example 1:"
      ],
      "metadata": {
        "id": "vtqYMEmkaoT5"
      }
    },
    {
      "cell_type": "code",
      "execution_count": 2,
      "metadata": {
        "colab": {
          "base_uri": "https://localhost:8080/"
        },
        "id": "48Qiq7HoY1Go",
        "outputId": "914f1431-aa6d-40cb-e7ed-501463746d68"
      },
      "outputs": [
        {
          "output_type": "stream",
          "name": "stdout",
          "text": [
            "Geek for geeks\n"
          ]
        }
      ],
      "source": [
        "name = \"geek for geeks\"\n",
        "print(name.capitalize())"
      ]
    },
    {
      "cell_type": "markdown",
      "source": [
        "### Example 2: capitalize() only capitalize the first letter of string and lowers all the remaining characher"
      ],
      "metadata": {
        "id": "8xPLb1YDasSQ"
      }
    },
    {
      "cell_type": "code",
      "source": [
        "string = 'rOSES ARE RED'\n",
        "print(\"Original string: \", string)\n",
        "print(\"After using capitalize: \", string.capitalize())"
      ],
      "metadata": {
        "colab": {
          "base_uri": "https://localhost:8080/"
        },
        "id": "QGu4wBWuadwJ",
        "outputId": "7ff13f54-e0d2-4f6e-99fe-5ba867e6933a"
      },
      "execution_count": 4,
      "outputs": [
        {
          "output_type": "stream",
          "name": "stdout",
          "text": [
            "Original string:  rOSES ARE RED\n",
            "After using capitalize:  Roses are red\n"
          ]
        }
      ]
    },
    {
      "cell_type": "markdown",
      "source": [
        "### Example 3:  Python String capitalize() Method Doesn’t Modify the Original String"
      ],
      "metadata": {
        "id": "OEors3dibZD8"
      }
    },
    {
      "cell_type": "code",
      "source": [
        "string = 'geeks for geeks'\n",
        "string_2 = string.capitalize()\n",
        "\n",
        "print(\"New string after using capitalize(): \", string_2)\n",
        "print(\"Original String: \", string)"
      ],
      "metadata": {
        "colab": {
          "base_uri": "https://localhost:8080/"
        },
        "id": "-oEWjOqwbAHl",
        "outputId": "a17bfa6c-a1f9-40dd-a873-ae7faf5ea4de"
      },
      "execution_count": 5,
      "outputs": [
        {
          "output_type": "stream",
          "name": "stdout",
          "text": [
            "New string after using capitalize():  Geeks for geeks\n",
            "Original String:  geeks for geeks\n"
          ]
        }
      ]
    },
    {
      "cell_type": "markdown",
      "source": [
        "### Questions: 1. write a python code to capitalize first letter in the given string. "
      ],
      "metadata": {
        "id": "1H3LeqGdb6Y9"
      }
    },
    {
      "cell_type": "code",
      "source": [
        "my_name = \"ankan\"\n",
        "print(my_name.capitalize())"
      ],
      "metadata": {
        "colab": {
          "base_uri": "https://localhost:8080/"
        },
        "id": "0hSslmkwbuxe",
        "outputId": "861d8be8-175a-4664-fdb0-e95dade94b49"
      },
      "execution_count": 7,
      "outputs": [
        {
          "output_type": "stream",
          "name": "stdout",
          "text": [
            "Ankan\n"
          ]
        }
      ]
    },
    {
      "cell_type": "code",
      "source": [
        ""
      ],
      "metadata": {
        "id": "iQWqQrWPcCIw"
      },
      "execution_count": null,
      "outputs": []
    }
  ]
}