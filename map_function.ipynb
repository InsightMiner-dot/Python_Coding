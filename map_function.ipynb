{
  "nbformat": 4,
  "nbformat_minor": 0,
  "metadata": {
    "colab": {
      "provenance": [],
      "authorship_tag": "ABX9TyMD0Pr3fC1ETVtmJGXCg/tL",
      "include_colab_link": true
    },
    "kernelspec": {
      "name": "python3",
      "display_name": "Python 3"
    },
    "language_info": {
      "name": "python"
    }
  },
  "cells": [
    {
      "cell_type": "markdown",
      "metadata": {
        "id": "view-in-github",
        "colab_type": "text"
      },
      "source": [
        "<a href=\"https://colab.research.google.com/github/ankan92/Python_Coding/blob/main/map_function.ipynb\" target=\"_parent\"><img src=\"https://colab.research.google.com/assets/colab-badge.svg\" alt=\"Open In Colab\"/></a>"
      ]
    },
    {
      "cell_type": "markdown",
      "source": [
        "# map() function"
      ],
      "metadata": {
        "id": "6olIMQiOkM_t"
      }
    },
    {
      "cell_type": "markdown",
      "source": [
        "The python map() function is used to return a list of results after applying a given function to each item of an iterable (lits,tuple etc.)"
      ],
      "metadata": {
        "id": "3_CqdEFpkar7"
      }
    },
    {
      "cell_type": "code",
      "execution_count": 2,
      "metadata": {
        "id": "lZWekpjvDtJd"
      },
      "outputs": [],
      "source": [
        "def even_or_odd (num):\n",
        "  if num % 2 ==0:\n",
        "    return \"The number {} is even\".format(num)\n",
        "  else:\n",
        "    return \"The number {} is odd\".format(num)"
      ]
    },
    {
      "cell_type": "markdown",
      "source": [],
      "metadata": {
        "id": "oXhtFIZUkMHC"
      }
    },
    {
      "cell_type": "code",
      "source": [
        "even_or_odd(14)"
      ],
      "metadata": {
        "colab": {
          "base_uri": "https://localhost:8080/",
          "height": 36
        },
        "id": "CGJZJS2aEMyn",
        "outputId": "8f4ada48-3041-47f2-aa74-4d17bd9351ad"
      },
      "execution_count": 3,
      "outputs": [
        {
          "output_type": "execute_result",
          "data": {
            "text/plain": [
              "'The number 14 is even'"
            ],
            "application/vnd.google.colaboratory.intrinsic+json": {
              "type": "string"
            }
          },
          "metadata": {},
          "execution_count": 3
        }
      ]
    },
    {
      "cell_type": "code",
      "source": [
        "# Using for loop \n",
        "lst = [2,4,5,6]\n",
        "for i in lst:\n",
        "  if i % 2 == 0:\n",
        "    print(\"The number is even\")\n",
        "  else:\n",
        "    print(\"The number is odd\")"
      ],
      "metadata": {
        "colab": {
          "base_uri": "https://localhost:8080/"
        },
        "id": "eIXSt2VJEQm4",
        "outputId": "bd6bde1f-74b1-4dd0-a8ad-f4df2f2c84e9"
      },
      "execution_count": 4,
      "outputs": [
        {
          "output_type": "stream",
          "name": "stdout",
          "text": [
            "The number is even\n",
            "The number is even\n",
            "The number is odd\n",
            "The number is even\n"
          ]
        }
      ]
    },
    {
      "cell_type": "code",
      "source": [
        "lst = [6,7,8]\n",
        "print(lst)"
      ],
      "metadata": {
        "colab": {
          "base_uri": "https://localhost:8080/"
        },
        "id": "H0FvQwZMFXqY",
        "outputId": "f39d863f-e1cc-479f-aee0-8b9f336592e5"
      },
      "execution_count": 6,
      "outputs": [
        {
          "output_type": "stream",
          "name": "stdout",
          "text": [
            "[6, 7, 8]\n"
          ]
        }
      ]
    },
    {
      "cell_type": "code",
      "source": [
        "map(even_or_odd,lst)"
      ],
      "metadata": {
        "colab": {
          "base_uri": "https://localhost:8080/"
        },
        "id": "lu6C8zsyF7ut",
        "outputId": "9406b25b-94e9-4c92-fdc9-6d17c977cb85"
      },
      "execution_count": 7,
      "outputs": [
        {
          "output_type": "execute_result",
          "data": {
            "text/plain": [
              "<map at 0x7f234fbdcd90>"
            ]
          },
          "metadata": {},
          "execution_count": 7
        }
      ]
    },
    {
      "cell_type": "code",
      "source": [
        "# Using map function check the odd or even\n",
        "list(map(even_or_odd,lst))"
      ],
      "metadata": {
        "colab": {
          "base_uri": "https://localhost:8080/"
        },
        "id": "vN8kN2EKGGsk",
        "outputId": "aceb726b-acd3-4794-8e5c-fe961ca9f208"
      },
      "execution_count": 8,
      "outputs": [
        {
          "output_type": "execute_result",
          "data": {
            "text/plain": [
              "['The number 6 is even', 'The number 7 is odd', 'The number 8 is even']"
            ]
          },
          "metadata": {},
          "execution_count": 8
        }
      ]
    },
    {
      "cell_type": "code",
      "source": [],
      "metadata": {
        "id": "Fida6_HXGKc8"
      },
      "execution_count": null,
      "outputs": []
    }
  ]
}